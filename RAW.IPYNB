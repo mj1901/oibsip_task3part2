{
 "cells": [
  {
   "cell_type": "code",
   "execution_count": 5,
   "metadata": {},
   "outputs": [],
   "source": [
    "import pandas as pd\n",
    "import os\n",
    "\n",
    "# Define the file paths for the input CSV files\n",
    "file_paths = ['CAvideos.csv', 'DEvideos.csv', 'FRvideos.csv', 'GBvideos.csv', 'INvideos.csv',\n",
    "              'JPvideos.csv', 'KRvideos.csv', 'MXvideos.csv', 'RUvideos.csv', 'USvideos.csv']\n",
    "\n"
   ]
  },
  {
   "cell_type": "code",
   "execution_count": 8,
   "metadata": {},
   "outputs": [],
   "source": [
    "# Define the output directory\n",
    "output_directory = r'C:\\Users\\Admin\\Desktop\\oasis\\day2\\task2'\n",
    "\n",
    "# Read and concatenate all CSV files into one DataFrame\n",
    "df = pd.concat([pd.read_csv(file, encoding='ISO-8859-1') for file in file_paths], ignore_index=True)\n",
    "\n"
   ]
  },
  {
   "cell_type": "code",
   "execution_count": 9,
   "metadata": {},
   "outputs": [],
   "source": [
    "# Data Integrity: Check for data types and correct inconsistencies\n",
    "# Assuming 'trending_date' and 'publish_time' are in datetime format\n",
    "df['trending_date'] = pd.to_datetime(df['trending_date'], errors='coerce')\n",
    "df['publish_time'] = pd.to_datetime(df['publish_time'], errors='coerce')\n"
   ]
  },
  {
   "cell_type": "code",
   "execution_count": 10,
   "metadata": {},
   "outputs": [
    {
     "name": "stderr",
     "output_type": "stream",
     "text": [
      "<ipython-input-10-e811ad48b8cd>:4: FutureWarning: DataFrame.mean and DataFrame.median with numeric_only=None will include datetime64 and datetime64tz columns in a future version.\n",
      "  df.fillna(df.median(), inplace=True)\n",
      "<ipython-input-10-e811ad48b8cd>:4: FutureWarning: The default value of numeric_only in DataFrame.median is deprecated. In a future version, it will default to False. In addition, specifying 'numeric_only=None' is deprecated. Select only valid columns or specify the value of numeric_only to silence this warning.\n",
      "  df.fillna(df.median(), inplace=True)\n"
     ]
    }
   ],
   "source": [
    "# Missing Data Handling: Replace or drop missing values\n",
    "# You can choose an appropriate strategy based on your analysis\n",
    "# For example, replacing missing values with the mean or median\n",
    "df.fillna(df.median(), inplace=True)\n",
    "\n"
   ]
  },
  {
   "cell_type": "code",
   "execution_count": 11,
   "metadata": {},
   "outputs": [],
   "source": [
    "# Duplicate Removal: Drop duplicate records\n",
    "df.drop_duplicates(inplace=True)\n",
    "\n"
   ]
  },
  {
   "cell_type": "code",
   "execution_count": 12,
   "metadata": {},
   "outputs": [],
   "source": [
    "# Standardization: No specific details were provided, but you might want to standardize text data, etc.\n",
    "\n",
    "# Outlier Detection: Identify and handle outliers\n",
    "# Assuming 'views', 'likes', 'dislikes', and 'comment_count' are numeric columns\n",
    "numeric_columns = ['views', 'likes', 'dislikes', 'comment_count']\n",
    "\n"
   ]
  },
  {
   "cell_type": "code",
   "execution_count": 13,
   "metadata": {},
   "outputs": [
    {
     "name": "stdout",
     "output_type": "stream",
     "text": [
      "Cleaned dataset saved at: C:\\Users\\Admin\\Desktop\\oasis\\day2\\task2\\cleaned_dataset.csv\n"
     ]
    }
   ],
   "source": [
    "# You can use statistical methods or domain knowledge to handle outliers\n",
    "# For example, removing rows with values beyond a certain threshold\n",
    "for column in numeric_columns:\n",
    "    lower_limit = df[column].mean() - 3 * df[column].std()\n",
    "    upper_limit = df[column].mean() + 3 * df[column].std()\n",
    "    df = df[(df[column] >= lower_limit) & (df[column] <= upper_limit)]\n",
    "\n",
    "# Save the cleaned dataset\n",
    "output_path = os.path.join(output_directory, 'cleaned_dataset.csv')\n",
    "df.to_csv(output_path, index=False)\n",
    "\n",
    "print(f\"Cleaned dataset saved at: {output_path}\")\n"
   ]
  },
  {
   "cell_type": "code",
   "execution_count": null,
   "metadata": {},
   "outputs": [],
   "source": []
  }
 ],
 "metadata": {
  "kernelspec": {
   "display_name": "Python 3",
   "language": "python",
   "name": "python3"
  },
  "language_info": {
   "codemirror_mode": {
    "name": "ipython",
    "version": 3
   },
   "file_extension": ".py",
   "mimetype": "text/x-python",
   "name": "python",
   "nbconvert_exporter": "python",
   "pygments_lexer": "ipython3",
   "version": "3.9.6"
  }
 },
 "nbformat": 4,
 "nbformat_minor": 2
}
