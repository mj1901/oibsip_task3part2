{
 "cells": [
  {
   "cell_type": "code",
   "execution_count": 1,
   "metadata": {},
   "outputs": [
    {
     "name": "stdout",
     "output_type": "stream",
     "text": [
      "Column Names:\n",
      "video_id\n",
      "trending_date\n",
      "title\n",
      "channel_title\n",
      "category_id\n",
      "publish_time\n",
      "tags\n",
      "views\n",
      "likes\n",
      "dislikes\n",
      "comment_count\n",
      "thumbnail_link\n",
      "comments_disabled\n",
      "ratings_disabled\n",
      "video_error_or_removed\n",
      "description\n"
     ]
    }
   ],
   "source": [
    "import pandas as pd\n",
    "\n",
    "# Read the CSV file into a DataFrame\n",
    "df = pd.read_csv('CAvideos.csv',)\n",
    "\n",
    "# Get the names of columns\n",
    "column_names = df.columns\n",
    "\n",
    "# Print the column names\n",
    "print(\"Column Names:\")\n",
    "for column in column_names:\n",
    "    print(column)\n"
   ]
  },
  {
   "cell_type": "code",
   "execution_count": 2,
   "metadata": {},
   "outputs": [
    {
     "name": "stdout",
     "output_type": "stream",
     "text": [
      "Column Names:\n",
      "video_id\n",
      "trending_date\n",
      "title\n",
      "channel_title\n",
      "category_id\n",
      "publish_time\n",
      "tags\n",
      "views\n",
      "likes\n",
      "dislikes\n",
      "comment_count\n",
      "thumbnail_link\n",
      "comments_disabled\n",
      "ratings_disabled\n",
      "video_error_or_removed\n",
      "description\n"
     ]
    }
   ],
   "source": [
    "import pandas as pd\n",
    "\n",
    "# Read the CSV file into a DataFrame\n",
    "df = pd.read_csv('DEvideos.csv')\n",
    "\n",
    "# Get the names of columns\n",
    "column_names = df.columns\n",
    "\n",
    "# Print the column names\n",
    "print(\"Column Names:\")\n",
    "for column in column_names:\n",
    "    print(column)\n"
   ]
  },
  {
   "cell_type": "code",
   "execution_count": 3,
   "metadata": {},
   "outputs": [
    {
     "name": "stdout",
     "output_type": "stream",
     "text": [
      "Column Names:\n",
      "video_id\n",
      "trending_date\n",
      "title\n",
      "channel_title\n",
      "category_id\n",
      "publish_time\n",
      "tags\n",
      "views\n",
      "likes\n",
      "dislikes\n",
      "comment_count\n",
      "thumbnail_link\n",
      "comments_disabled\n",
      "ratings_disabled\n",
      "video_error_or_removed\n",
      "description\n"
     ]
    }
   ],
   "source": [
    "import pandas as pd\n",
    "\n",
    "# Read the CSV file into a DataFrame\n",
    "df = pd.read_csv('FRvideos.csv')\n",
    "\n",
    "# Get the names of columns\n",
    "column_names = df.columns\n",
    "\n",
    "# Print the column names\n",
    "print(\"Column Names:\")\n",
    "for column in column_names:\n",
    "    print(column)\n"
   ]
  },
  {
   "cell_type": "code",
   "execution_count": 4,
   "metadata": {},
   "outputs": [
    {
     "name": "stdout",
     "output_type": "stream",
     "text": [
      "Column Names:\n",
      "video_id\n",
      "trending_date\n",
      "title\n",
      "channel_title\n",
      "category_id\n",
      "publish_time\n",
      "tags\n",
      "views\n",
      "likes\n",
      "dislikes\n",
      "comment_count\n",
      "thumbnail_link\n",
      "comments_disabled\n",
      "ratings_disabled\n",
      "video_error_or_removed\n",
      "description\n"
     ]
    }
   ],
   "source": [
    "import pandas as pd\n",
    "\n",
    "# Read the CSV file into a DataFrame\n",
    "df = pd.read_csv('GBvideos.csv')\n",
    "\n",
    "# Get the names of columns\n",
    "column_names = df.columns\n",
    "\n",
    "# Print the column names\n",
    "print(\"Column Names:\")\n",
    "for column in column_names:\n",
    "    print(column)\n"
   ]
  },
  {
   "cell_type": "code",
   "execution_count": 5,
   "metadata": {},
   "outputs": [
    {
     "name": "stdout",
     "output_type": "stream",
     "text": [
      "Column Names:\n",
      "video_id\n",
      "trending_date\n",
      "title\n",
      "channel_title\n",
      "category_id\n",
      "publish_time\n",
      "tags\n",
      "views\n",
      "likes\n",
      "dislikes\n",
      "comment_count\n",
      "thumbnail_link\n",
      "comments_disabled\n",
      "ratings_disabled\n",
      "video_error_or_removed\n",
      "description\n"
     ]
    }
   ],
   "source": [
    "import pandas as pd\n",
    "\n",
    "# Read the CSV file into a DataFrame\n",
    "df = pd.read_csv('INvideos.csv',)\n",
    "\n",
    "# Get the names of columns\n",
    "column_names = df.columns\n",
    "\n",
    "# Print the column names\n",
    "print(\"Column Names:\")\n",
    "for column in column_names:\n",
    "    print(column)\n"
   ]
  },
  {
   "cell_type": "code",
   "execution_count": 6,
   "metadata": {},
   "outputs": [
    {
     "name": "stdout",
     "output_type": "stream",
     "text": [
      "Column Names:\n",
      "video_id\n",
      "trending_date\n",
      "title\n",
      "channel_title\n",
      "category_id\n",
      "publish_time\n",
      "tags\n",
      "views\n",
      "likes\n",
      "dislikes\n",
      "comment_count\n",
      "thumbnail_link\n",
      "comments_disabled\n",
      "ratings_disabled\n",
      "video_error_or_removed\n",
      "description\n"
     ]
    }
   ],
   "source": [
    "import pandas as pd\n",
    "\n",
    "# Read the CSV file into a DataFrame with a different encoding\n",
    "df = pd.read_csv('JPvideos.csv', encoding='ISO-8859-1')\n",
    "\n",
    "# Get the names of columns\n",
    "column_names = df.columns\n",
    "\n",
    "# Print the column names\n",
    "print(\"Column Names:\")\n",
    "for column in column_names:\n",
    "    print(column)\n"
   ]
  },
  {
   "cell_type": "code",
   "execution_count": 7,
   "metadata": {},
   "outputs": [
    {
     "name": "stdout",
     "output_type": "stream",
     "text": [
      "Column Names:\n",
      "video_id\n",
      "trending_date\n",
      "title\n",
      "channel_title\n",
      "category_id\n",
      "publish_time\n",
      "tags\n",
      "views\n",
      "likes\n",
      "dislikes\n",
      "comment_count\n",
      "thumbnail_link\n",
      "comments_disabled\n",
      "ratings_disabled\n",
      "video_error_or_removed\n",
      "description\n"
     ]
    }
   ],
   "source": [
    "import pandas as pd\n",
    "\n",
    "# Read the CSV file into a DataFrame with a different encoding\n",
    "df = pd.read_csv('KRvideos.csv', encoding='ISO-8859-1')\n",
    "\n",
    "# Get the names of columns\n",
    "column_names = df.columns\n",
    "\n",
    "# Print the column names\n",
    "print(\"Column Names:\")\n",
    "for column in column_names:\n",
    "    print(column)\n"
   ]
  },
  {
   "cell_type": "code",
   "execution_count": 8,
   "metadata": {},
   "outputs": [
    {
     "name": "stdout",
     "output_type": "stream",
     "text": [
      "Column Names:\n",
      "video_id\n",
      "trending_date\n",
      "title\n",
      "channel_title\n",
      "category_id\n",
      "publish_time\n",
      "tags\n",
      "views\n",
      "likes\n",
      "dislikes\n",
      "comment_count\n",
      "thumbnail_link\n",
      "comments_disabled\n",
      "ratings_disabled\n",
      "video_error_or_removed\n",
      "description\n"
     ]
    }
   ],
   "source": [
    "import pandas as pd\n",
    "\n",
    "# Read the CSV file into a DataFrame with a different encoding\n",
    "df = pd.read_csv('MXvideos.csv', encoding='ISO-8859-1')\n",
    "\n",
    "# Get the names of columns\n",
    "column_names = df.columns\n",
    "\n",
    "# Print the column names\n",
    "print(\"Column Names:\")\n",
    "for column in column_names:\n",
    "    print(column)\n"
   ]
  },
  {
   "cell_type": "code",
   "execution_count": 9,
   "metadata": {},
   "outputs": [
    {
     "name": "stdout",
     "output_type": "stream",
     "text": [
      "Column Names:\n",
      "video_id\n",
      "trending_date\n",
      "title\n",
      "channel_title\n",
      "category_id\n",
      "publish_time\n",
      "tags\n",
      "views\n",
      "likes\n",
      "dislikes\n",
      "comment_count\n",
      "thumbnail_link\n",
      "comments_disabled\n",
      "ratings_disabled\n",
      "video_error_or_removed\n",
      "description\n"
     ]
    }
   ],
   "source": [
    "import pandas as pd\n",
    "\n",
    "# Read the CSV file into a DataFrame with a different encoding\n",
    "df = pd.read_csv('RUvideos.csv', encoding='ISO-8859-1')\n",
    "\n",
    "# Get the names of columns\n",
    "column_names = df.columns\n",
    "\n",
    "# Print the column names\n",
    "print(\"Column Names:\")\n",
    "for column in column_names:\n",
    "    print(column)\n"
   ]
  },
  {
   "cell_type": "code",
   "execution_count": 10,
   "metadata": {},
   "outputs": [
    {
     "name": "stdout",
     "output_type": "stream",
     "text": [
      "Column Names:\n",
      "video_id\n",
      "trending_date\n",
      "title\n",
      "channel_title\n",
      "category_id\n",
      "publish_time\n",
      "tags\n",
      "views\n",
      "likes\n",
      "dislikes\n",
      "comment_count\n",
      "thumbnail_link\n",
      "comments_disabled\n",
      "ratings_disabled\n",
      "video_error_or_removed\n",
      "description\n"
     ]
    }
   ],
   "source": [
    "import pandas as pd\n",
    "\n",
    "# Read the CSV file into a DataFrame with a different encoding\n",
    "df = pd.read_csv('USvideos.csv', encoding='ISO-8859-1')\n",
    "\n",
    "# Get the names of columns\n",
    "column_names = df.columns\n",
    "\n",
    "# Print the column names\n",
    "print(\"Column Names:\")\n",
    "for column in column_names:\n",
    "    print(column)\n"
   ]
  },
  {
   "cell_type": "code",
   "execution_count": null,
   "metadata": {},
   "outputs": [],
   "source": []
  }
 ],
 "metadata": {
  "kernelspec": {
   "display_name": "Python 3",
   "language": "python",
   "name": "python3"
  },
  "language_info": {
   "codemirror_mode": {
    "name": "ipython",
    "version": 3
   },
   "file_extension": ".py",
   "mimetype": "text/x-python",
   "name": "python",
   "nbconvert_exporter": "python",
   "pygments_lexer": "ipython3",
   "version": "3.9.6"
  }
 },
 "nbformat": 4,
 "nbformat_minor": 2
}
